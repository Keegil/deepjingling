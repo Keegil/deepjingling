{
 "cells": [
  {
   "cell_type": "markdown",
   "metadata": {},
   "source": [
    "# Deep Jingling Songwriter\n",
    "\n",
    "Use this script to generate Christmas lyrics, based on **36 Christmas songs** and **14 Christmas stories**. \n",
    "\n",
    "## How to use\n",
    "1. Read the instructions!\n",
    "2. Fill in the desired parameters in the cell below\n",
    "3. Press the \"play\"-button on the toolbar while the cell with the code is selected, or press shift-enter while in that cell\n",
    "\n",
    "*Keep in mind that this is very little training material for such an algorithm! While the model sometimes mixes in things from the stories when generating lyrics, it will usually generate passages that are either very close to the existing lyrics or bordering on complete nonsense. **The sweet spot between these two is difficult to hit, so be patient when generating, and cherry-pick the best parts and put them together for the best results!***\n",
    "\n",
    "You can manipulate some parameters to affect the results in different ways.\n",
    "\n",
    "### prime_text\n",
    "The start of the sequence to generate from. You can use this to try to get the model til write about different things, but it doesn't work that well in practice. The first few words or sentences might have some relation to the prime sequence, but the model will quickly start writing about its own stuff. The prime text is not required; you can also just pass in an empty string.\n",
    "\n",
    "### temperature\n",
    "You can make the model \"braver\" or more certain in its predictions by manipulating this parameter. Lower values makes the model braver and, likely to create new words and generally create more interesting text, at the expense of also sometimes generating \"weirder\" and more nonsensical text. The minimum recommended value for this parameter is **0.8** - anything lower than this will usually not make any sense. Higher values makes the model more likely to get stuck parroting the original lyrics or just generating the same things over and over again. Values in the **0.8 - 1.3** range usually work pretty well.\n",
    "\n",
    "### length\n",
    "The length of the sequence to generate."
   ]
  },
  {
   "cell_type": "code",
   "execution_count": 69,
   "metadata": {
    "collapsed": false
   },
   "outputs": [
    {
     "name": "stdout",
     "output_type": "stream",
     "text": [
      "heed our sheep\n",
      "here\n",
      "so meeting in the snow \n",
      "we're steady\n",
      "and will love a merry like a mines\n",
      "\n",
      "now santa baby\n",
      "why we love the faithful snow sweet iward by the lights so verdant!\n",
      "\n",
      "then\n",
      "speaking\n",
      "11 maids a milking\n",
      "11 maids a milking\n",
      "6 geese a laying\n",
      "6 golden rings\n",
      "4 calling birds\n",
      "3 french hens\n",
      "2 turtle doves\n",
      "and a partridge in a pear tree\n",
      "\n",
      "on the newborn king\n",
      "pa rum pum pum pum\n",
      "a merry christmas\n",
      "my true love sent to me:\n",
      "11 drummers coming up in tourselves\n",
      " now we do\n",
      "a merry christmas\n",
      "my true love sent to me:\n",
      "8 maids a milking\n",
      "6 feeling mr. grinch,\n",
      "i will a lye day\n",
      "gnose by the year \n",
      "\n",
      "he will get a sentimental mother\n",
      "sing a song of boy\n",
      "and rings\n",
      "3 french hens\n",
      "2 turtle doves\n",
      "and a partridge in a pear tree\n",
      "\n",
      "on the way\n",
      "oh, what a was peace\n",
      "silver bells\n",
      "it's beginning him by,\n",
      "and by a few day of christmas\n",
      "my true love sent to me:\n",
      "11 lords a leaping\n",
      "11 maids a milking\n",
      "6 geese a laying\n",
      "11 lords a leaping\n",
      "11 maids a milking\n",
      "6 geese a laying\n",
      "11 lords a leaping\n",
      "6 geese a laying\n",
      "6 golden rings\n",
      "4 calli\n"
     ]
    }
   ],
   "source": [
    "import dsb\n",
    "\n",
    "prime_text = 'heed our sheep'\n",
    "temperature = 1.2\n",
    "length = 500\n",
    "\n",
    "dsb.load_and_sample(model_filename='models/deepjingling-songwriter8_epoch99.dnn', \n",
    "                    prime_text=prime_text.lower(), temperature=temperature, length=length)"
   ]
  },
  {
   "cell_type": "code",
   "execution_count": null,
   "metadata": {
    "collapsed": true
   },
   "outputs": [],
   "source": []
  }
 ],
 "metadata": {
  "anaconda-cloud": {},
  "kernelspec": {
   "display_name": "Python 3",
   "language": "python",
   "name": "python3"
  },
  "language_info": {
   "codemirror_mode": {
    "name": "ipython",
    "version": 3
   },
   "file_extension": ".py",
   "mimetype": "text/x-python",
   "name": "python",
   "nbconvert_exporter": "python",
   "pygments_lexer": "ipython3",
   "version": "3.4.4"
  }
 },
 "nbformat": 4,
 "nbformat_minor": 1
}
