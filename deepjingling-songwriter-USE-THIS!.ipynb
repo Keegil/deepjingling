{
 "cells": [
  {
   "cell_type": "markdown",
   "metadata": {},
   "source": [
    "# Deep Jingling Songwriter\n",
    "\n",
    "Use this script to generate Christmas lyrics, based on **36 Christmas songs** and **14 Christmas stories**. \n",
    "\n",
    "## How to use\n",
    "1. Read the instructions!\n",
    "2. Fill in the desired parameters in the cell below\n",
    "3. Press the \"play\"-button on the toolbar while the cell with the code is selected, or press shift-enter while in that cell\n",
    "\n",
    "*Keep in mind that this is very little training material for such an algorithm! While the model sometimes mixes in things from the stories when generating lyrics, it will usually generate passages that are either very close to the existing lyrics or bordering on complete nonsense. **The sweet spot between these two is difficult to hit, so be patient when generating, and cherry-pick the best parts and put them together for the best results!***\n",
    "\n",
    "You can manipulate some parameters to affect the results in different ways.\n",
    "\n",
    "### prime_text\n",
    "The start of the sequence to generate from. You can use this to try to get the model til write about different things, but it doesn't work that well in practice. The first few words or sentences might have some relation to the prime sequence, but the model will quickly start writing about its own stuff. The prime text is not required; you can also just pass in an empty string.\n",
    "\n",
    "### temperature\n",
    "You can make the model \"braver\" or more certain in its predictions by manipulating this parameter. Lower values makes the model braver and, likely to create new words and generally create more interesting text, at the expense of also sometimes generating \"weirder\" and more nonsensical text. The minimum recommended value for this parameter is **0.8** - anything lower than this will usually not make any sense. Higher values makes the model more likely to get stuck parroting the original lyrics or just generating the same things over and over again. Values in the **0.8 - 1.3** range usually work pretty well.\n",
    "\n",
    "### length\n",
    "The length of the sequence to generate."
   ]
  },
  {
   "cell_type": "code",
   "execution_count": 266,
   "metadata": {
    "collapsed": false
   },
   "outputs": [
    {
     "name": "stderr",
     "output_type": "stream",
     "text": [
      "C:\\Users\\kamdal\\deepjingling\\dsb.py:25: RuntimeWarning: overflow encountered in exp\n",
      "  p = np.exp(p) / np.sum(np.exp(p))\n",
      "C:\\Users\\kamdal\\deepjingling\\dsb.py:25: RuntimeWarning: invalid value encountered in true_divide\n",
      "  p = np.exp(p) / np.sum(np.exp(p))\n",
      "C:\\Users\\kamdal\\deepjingling\\dsb.py:16: RuntimeWarning: invalid value encountered in power\n",
      "  p = np.power(p, (temperature))\n",
      "C:\\Users\\kamdal\\deepjingling\\dsb.py:27: RuntimeWarning: invalid value encountered in less\n",
      "  w = np.random.choice(range(vocab_dim), p=p.ravel())\n"
     ]
    },
    {
     "name": "stdout",
     "output_type": "stream",
     "text": [
      "q\n",
      "ent, and sight down strife in the stairs\n",
      "in the very sont door;\n",
      "so the dead time \n",
      "it's the most wonderful time \n",
      "it's the most wonderful time \n",
      "it's the most wonderful time \n",
      "it's the most wonderful time \n",
      "it's the most wonderful time \n",
      "it's the most wonderful time \n",
      "it's the most wonderful time \n",
      "it's the most wonderful time \n",
      "it's the most wonderful time \n",
      "it's the most wonderful time \n",
      "it's the most won\n"
     ]
    }
   ],
   "source": [
    "import dsb\n",
    "\n",
    "prime_text = \"\"\n",
    "temperature = 1.0\n",
    "length = 400\n",
    "\n",
    "dsb.load_and_sample(model_filename='models/deepjingling-songwriter6_epoch99.dnn', \n",
    "                    prime_text=prime_text.lower(), temperature=temperature, length=length)"
   ]
  },
  {
   "cell_type": "code",
   "execution_count": null,
   "metadata": {
    "collapsed": true
   },
   "outputs": [],
   "source": []
  }
 ],
 "metadata": {
  "anaconda-cloud": {},
  "kernelspec": {
   "display_name": "Python 3",
   "language": "python",
   "name": "python3"
  },
  "language_info": {
   "codemirror_mode": {
    "name": "ipython",
    "version": 3
   },
   "file_extension": ".py",
   "mimetype": "text/x-python",
   "name": "python",
   "nbconvert_exporter": "python",
   "pygments_lexer": "ipython3",
   "version": "3.4.4"
  }
 },
 "nbformat": 4,
 "nbformat_minor": 1
}
