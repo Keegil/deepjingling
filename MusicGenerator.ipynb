{
 "cells": [
  {
   "cell_type": "code",
   "execution_count": 4,
   "metadata": {
    "collapsed": false
   },
   "outputs": [],
   "source": [
    "from music21 import *\n",
    "import numpy as np\n",
    "import glob\n",
    "import math\n",
    "import os\n",
    "import random\n",
    "from cntk import Trainer, Axis\n",
    "from cntk.learner import adam_sgd, momentum_sgd, momentum_as_time_constant_schedule, learning_rate_schedule, UnitType\n",
    "from cntk.ops import input_variable, classification_error, squared_error\n",
    "from cntk.persist import load_model, save_model\n",
    "from cntk.blocks import LSTM, Stabilizer\n",
    "from cntk.layers import Recurrence, Dense, Dropout, BatchNormalization\n",
    "from cntk.utils import get_train_eval_criterion, get_train_loss\n",
    "from cntk.device import set_default_device, gpu\n",
    "\n",
    "path = \"PianoMidiFiles3\""
   ]
  },
  {
   "cell_type": "code",
   "execution_count": 113,
   "metadata": {
    "collapsed": false
   },
   "outputs": [],
   "source": [
    "lowerBound = 24 # = [python] index 0 ([R] 1. possision)\n",
    "upperBound = 102 # = first index out of bound => len =78\n",
    "nNotes = upperBound-lowerBound\n",
    "\n",
    "def sample(z,prime_data=np.array([[0]*((upperBound-lowerBound)*2+4+12)],dtype=np.float32),length=300):#,threshold=1.11):\n",
    "    output=np.zeros((length, 173), dtype=np.float32)\n",
    "    output[:,172]=[l for l in range(length)]\n",
    "    p=0\n",
    "    outlag=[0]*156\n",
    "    for l in range(length):\n",
    "        output[l,156:160]=time2Beat(l)[0]\n",
    "    if len(prime_data[0])!=172:\n",
    "        prime_data[:,0:172]\n",
    "    randomNumb=np.random.choice(range(78))\n",
    "    if len(prime_data)==1: \n",
    "        prime_data[0,randomNumb*2] = 1\n",
    "        prime_data[0,randomNumb*2+1] = 1\n",
    "        prime_data[0,160:172]=numNotes(prime_data[0,:])\n",
    "    for i in range(len(prime_data)):\n",
    "        x=prime_data[i]\n",
    "        inputen=[np.array([x],dtype=np.float32)]\n",
    "        # inputen=[np.array([data],dtype=np.float32)]\n",
    "        # inputen=[np.array([x/np.maximum(x.sum(),1)],dtype=np.float32)]\n",
    "        if i==0:\n",
    "            arguments=(inputen,[True])\n",
    "        else:\n",
    "            p = z.eval(arguments)\n",
    "            arguments=(inputen,[False])\n",
    "        outlag=inputen[0][0][0:156]\n",
    "    #x=prime_data[len(prime_data)-1]\n",
    "    for i in range(length):\n",
    "        p = z.eval(arguments)        \n",
    "        output[i,0:156] = Output2data(p,outlag)# ,threshold=threshold)\n",
    "        outlag = output[i,0:156]\n",
    "        output[i,160:172]=numNotes(output[i,:])\n",
    "        x=output[i,0:172]\n",
    "        inputen=[np.array([x],dtype=np.float32)]\n",
    "        # inputen=[np.array([x/np.maximum(x.sum(),1)],dtype=np.float32)]\n",
    "        arguments=(inputen,[False])\n",
    "    return(output)#return([list(testout[i]) for i in range(300)])\n",
    "\n",
    "def numNotes(notes):\n",
    "    for inote in range(78):\n",
    "        notes[160+inote%12]+=1/4*notes[inote*2+1]\n",
    "    notes[160:172]=np.minimum.reduce([notes[160:172],[1]*12])#[min(notes[k],1) for k in range(159,172)]\n",
    "    return(notes[160:172])\n",
    "\n",
    "def Output2data(p,outlag):\n",
    "    p=p[0][0]\n",
    "    out=(p>np.random.random_sample((1, len(p))))*1 #np.array([[0.6]*len(p)]))#\n",
    "    for i in range(78):\n",
    "        if outlag[i*2+1]==0 and out[0][i*2]==0:\n",
    "            out[0][i*2+1]=0\n",
    "#        elif out[0][i*2]==1:\n",
    "#            out[0][i*2+1]=1\n",
    "        elif out[0][i*2]==1 and out[0][i*2+1]==0:\n",
    "            out[0][i*2+1]=(random.uniform(0, 1)<0.65)*1\n",
    "            out[0][i*2]=out[0][i*2+1]\n",
    "    return(out)\n",
    "    # return(list((p>p.mean()+threshold)*1))\n",
    "    \n",
    "def data2MusicMatric(data):\n",
    "    timeIndex=0\n",
    "    MusicMatrix=[0]*len(data)\n",
    "    MusicMatrixRow=[0]*(upperBound-lowerBound)\n",
    "    for i in range(len(data)):\n",
    "        for j in range(upperBound-lowerBound):\n",
    "            MusicMatrixRow[j] = [int(data[i,j*2]),int(data[i,j*2+1])]\n",
    "        MusicMatrix[i] = MusicMatrixRow+[[timeIndex]]\n",
    "        timeIndex+=0.25\n",
    "    return(MusicMatrix)\n",
    "\n",
    "def MusicMinMatrix2midi(MusicMinMatrixPart,S,bpm=100):\n",
    "    #S = stream.Score()\n",
    "    nTime=len(MusicMinMatrixPart)\n",
    "    S.insert(0,tempo.MetronomeMark(number=bpm))\n",
    "    p1 = stream.Part()\n",
    "    p1.id = 'part1'\n",
    "    nCons=0\n",
    "    thisIndex=0\n",
    "    mLen = len(MusicMinMatrixPart[0])\n",
    "    for j in range(78):\n",
    "        for i in range(nTime):\n",
    "            if (nCons!=0) and (MusicMinMatrixPart[i][j] in ([0,0],[1,1])):\n",
    "                n.duration.quarterLength = 0.25*nCons\n",
    "                p1.insert(MusicMinMatrixPart[thisIndex][mLen-1][0],n)\n",
    "                nCons=0\n",
    "            if MusicMinMatrixPart[i][j]==[1,1]:\n",
    "                n = note.Note()\n",
    "                n.midi = lowerBound+j\n",
    "                thisIndex = i\n",
    "                nCons+=1\n",
    "            elif (MusicMinMatrixPart[i][j]==[0,1]) and (nCons!=0):\n",
    "                nCons+=1\n",
    "        if (nCons != 0):\n",
    "            n.duration.quarterLength = 0.25*nCons\n",
    "            p1.insert(MusicMinMatrixPart[thisIndex][mLen-1][0],n)\n",
    "            nCons=0\n",
    "    S.insert(0,p1)\n",
    "    \n",
    "def time2Beat(time):\n",
    "    beat=[[math.floor((time%16)/8),math.floor((time%8)/4),math.floor((time%4)/2),time%2]]\n",
    "    return(beat)"
   ]
  },
  {
   "cell_type": "code",
   "execution_count": 68,
   "metadata": {
    "collapsed": false
   },
   "outputs": [],
   "source": [
    "z=load_model('0512composer_epoch300.dnn')"
   ]
  },
  {
   "cell_type": "code",
   "execution_count": 114,
   "metadata": {
    "collapsed": false
   },
   "outputs": [],
   "source": [
    "# make output\n",
    "# set output length\n",
    "length=2000\n",
    "testout=0\n",
    "testout=sample(z,prime_data=np.array([[0]*((upperBound-lowerBound)*2+4+12)],dtype=np.float32),length=length) #,threshold=5)\n",
    "musicM=data2MusicMatric(testout)\n",
    "S = stream.Score()\n",
    "MusicMinMatrix2midi(musicM,S,65)"
   ]
  },
  {
   "cell_type": "code",
   "execution_count": 61,
   "metadata": {
    "collapsed": false
   },
   "outputs": [],
   "source": [
    "prime_data=np.array([[0]*((upperBound-lowerBound)*2+4+12)],dtype=np.float32)\n",
    "x=prime_data[0]\n",
    "inputen=[np.array([x],dtype=np.float32)]\n",
    "arguments=(inputen,[True])\n",
    "#outtest=\n",
    "# z.eval(arguments)\n",
    "#print(outtest[0][0])"
   ]
  },
  {
   "cell_type": "code",
   "execution_count": null,
   "metadata": {
    "collapsed": true
   },
   "outputs": [],
   "source": [
    "#play Track\n",
    "sp=midi.realtime.StreamPlayer(S)\n",
    "sp.play()"
   ]
  },
  {
   "cell_type": "code",
   "execution_count": 115,
   "metadata": {
    "collapsed": false
   },
   "outputs": [
    {
     "data": {
      "text/plain": [
       "'MLmusicOut/TestS54E300nr11.mid'"
      ]
     },
     "execution_count": 115,
     "metadata": {},
     "output_type": "execute_result"
    }
   ],
   "source": [
    "#S.write('midi', 'FolderName/FileName.mid')\n",
    "# nr 7 0.65\n",
    "# nr 6 0.75\n",
    "# nr 5 1 \n",
    "# nr 4 0.7\n",
    "# nr 3 0.5\n",
    "# nr 2 0\n",
    "# nr 1 1\n",
    "S.write('midi', 'MLmusicOut/TestS54E300nr11.mid')"
   ]
  },
  {
   "cell_type": "code",
   "execution_count": null,
   "metadata": {
    "collapsed": true
   },
   "outputs": [],
   "source": [
    "prime_data=np.array([[0]*(10)],dtype=np.float32)\n",
    "x=prime_data[0]\n",
    "inputen=[np.array([x],dtype=np.float32)]\n",
    "arguments=(inputen,[True])"
   ]
  }
 ],
 "metadata": {
  "anaconda-cloud": {},
  "kernelspec": {
   "display_name": "Python [default]",
   "language": "python",
   "name": "python3"
  },
  "language_info": {
   "codemirror_mode": {
    "name": "ipython",
    "version": 3
   },
   "file_extension": ".py",
   "mimetype": "text/x-python",
   "name": "python",
   "nbconvert_exporter": "python",
   "pygments_lexer": "ipython3",
   "version": "3.4.3"
  }
 },
 "nbformat": 4,
 "nbformat_minor": 1
}
